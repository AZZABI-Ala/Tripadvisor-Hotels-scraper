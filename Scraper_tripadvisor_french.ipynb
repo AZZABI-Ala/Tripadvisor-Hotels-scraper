{
 "cells": [
  {
   "cell_type": "code",
   "execution_count": 1,
   "metadata": {},
   "outputs": [],
   "source": [
    "########################################################\n",
    "####Tripadvisor-Hotels-scraper-French-Version###########\n",
    "####Scraping script for TripAdvisor using BeautifulSoup#\n",
    "########################################################\n"
   ]
  },
  {
   "cell_type": "markdown",
   "metadata": {},
   "source": [
    "# Import libraries"
   ]
  },
  {
   "cell_type": "code",
   "execution_count": 2,
   "metadata": {},
   "outputs": [],
   "source": [
    "import requests\n",
    "from bs4 import BeautifulSoup\n",
    "import csv\n",
    "from datetime import datetime\n"
   ]
  },
  {
   "cell_type": "markdown",
   "metadata": {},
   "source": [
    "# Loading a CSV File"
   ]
  },
  {
   "cell_type": "code",
   "execution_count": 7,
   "metadata": {},
   "outputs": [
    {
     "data": {
      "text/plain": [
       "43"
      ]
     },
     "execution_count": 7,
     "metadata": {},
     "output_type": "execute_result"
    }
   ],
   "source": [
    "f = csv.writer(open(\"Output_fr/Tripadvisor_hotels_fr.csv\", \"w\"))\n",
    "f.writerow([\"Title\", \"Comment\", \"Author\",\"Date\",\"Extraction_date\"])\n"
   ]
  },
  {
   "cell_type": "markdown",
   "metadata": {},
   "source": [
    "# Data extraction"
   ]
  },
  {
   "cell_type": "code",
   "execution_count": 8,
   "metadata": {},
   "outputs": [],
   "source": [
    "# for loop\n",
    "data = []\n",
    "for offset in range(0, 2015, 5):\n",
    "    url = 'https://www.tripadvisor.fr/Hotel_Review-g187147-d197656-Reviews-or' + str(offset) + '-Mercure_Paris_Centre_Eiffel_Tower_Hotel-Paris_Ile_de_France.html'\n",
    "    # query the website and return the html to the variable 'page'\n",
    "    r = requests.get(url)\n",
    "    \n",
    "    # parse the html using beautiful soap and store in variable `soup`\n",
    "    soup = BeautifulSoup(r.text, \"html.parser\")\n",
    "    \n",
    "    # Take the title and get its value\n",
    "    title = soup.find('span', attrs={'class': 'noQuotes'})\n",
    "    title_value = title.text\n",
    "    \n",
    "\n",
    "    # Take the comment and get its value\n",
    "    comment = soup.find('p', attrs={'class': 'partial_entry'})\n",
    "    comment_value = comment.text # strip() is used to remove starting and trailing\n",
    "\n",
    "    # Take out the <div> of author and get its value\n",
    "    author = soup.find('div', attrs={'class':'username mo'})\n",
    "    author_name = author.text.strip()\n",
    "    \n",
    "    # Take the date of comment\n",
    "    date = soup.find('span', attrs={'class': 'ratingDate relativeDate'})\n",
    "    comment_date = date.text.strip() # strip() is used to remove starting and trailing\n",
    "    \n",
    "    # save the data in tuple\n",
    "    data.append((title_value, comment_value, author_name, comment_date))\n",
    "    "
   ]
  },
  {
   "cell_type": "markdown",
   "metadata": {},
   "source": [
    "# Save the data on csv file"
   ]
  },
  {
   "cell_type": "code",
   "execution_count": 9,
   "metadata": {},
   "outputs": [],
   "source": [
    "with open('Output_fr/Tripadvisor_hotels_fr.csv', 'a') as csv_file:\n",
    "    writer = csv.writer(csv_file)\n",
    "\n",
    "    # The for loop\n",
    "    for title_value, comment_value, author_name, comment_date in data:\n",
    "        writer.writerow([title_value, comment_value, author_name, comment_date, datetime.now()])\n",
    "        "
   ]
  },
  {
   "cell_type": "code",
   "execution_count": null,
   "metadata": {},
   "outputs": [],
   "source": []
  }
 ],
 "metadata": {
  "kernelspec": {
   "display_name": "Python [default]",
   "language": "python",
   "name": "python3"
  },
  "language_info": {
   "codemirror_mode": {
    "name": "ipython",
    "version": 3
   },
   "file_extension": ".py",
   "mimetype": "text/x-python",
   "name": "python",
   "nbconvert_exporter": "python",
   "pygments_lexer": "ipython3",
   "version": "3.6.3"
  }
 },
 "nbformat": 4,
 "nbformat_minor": 2
}
